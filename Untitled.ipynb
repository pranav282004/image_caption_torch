{
 "cells": [
  {
   "cell_type": "code",
   "execution_count": 14,
   "id": "039316ce-e40e-41a7-808a-c4a585580252",
   "metadata": {
    "tags": []
   },
   "outputs": [],
   "source": [
    "import torch\n",
    "import torch.nn as nn\n",
    "import torchvision\n",
    "import torch.nn.functional as F\n",
    "import os"
   ]
  },
  {
   "cell_type": "code",
   "execution_count": 3,
   "id": "0894b58e-08d4-4a8b-9898-5f5c4d560cea",
   "metadata": {
    "tags": []
   },
   "outputs": [],
   "source": [
    "class CNNENcoder(nn.Module):\n",
    "    def __init__(self):\n",
    "        super(CNNENcoder,self).__init__()\n",
    "        resnet = torchvision.models.resnet152(pretrained=True)\n",
    "        \n",
    "        for param in resnet.parameters():\n",
    "            param.required_grad = False\n",
    "        \n",
    "        modules = list(resnet.children())[:-2]\n",
    "        #print(modules)\n",
    "        self.model = nn.Sequential(*modules)\n",
    "    \n",
    "    def forward(self,IMAGE):\n",
    "        feature = self.model(IMAGE)\n",
    "        #for LSTM lets permute\n",
    "        B,C,H,W = feature.size()\n",
    "        feature = feature.permute(0,2,3,1)\n",
    "        feature = feature.view(B,H*W,C)\n",
    "        return feature"
   ]
  },
  {
   "cell_type": "code",
   "execution_count": 13,
   "id": "4fc1094d-f1ef-4550-939b-c620b4aedb76",
   "metadata": {},
   "outputs": [],
   "source": [
    "class Attention(nn.Module):\n",
    "    def __init__(self,features,dims,output):\n",
    "        super(Attention,self).__init__()\n",
    "        \n",
    "        self.features = features \n",
    "        self.dims = dims\n",
    "        self.output = output\n",
    "        \n",
    "        self.Wa = nn.Linear(features,dims)\n",
    "        \n",
    "        self.Ua = nn.Linear(dims,dims)\n",
    "        \n",
    "        self.va = nn.Linear(dims,output)\n",
    "        \n",
    "    \n",
    "    def forward(self,feature_map,hidden):\n",
    "        \n",
    "        FM = feature_map\n",
    "        \n",
    "        feature_map = self.Wa(feature_map)\n",
    "        hidden = self.Ua(hidden)\n",
    "        \n",
    "        _resultant_vec = torch.tanh(feature_map + hidden)\n",
    "        _resultant_vec = self.va(_resultant_vec)\n",
    "        print(_resultant_vec.shape)\n",
    "        _resultant_vec = torch.softmax(_resultant_vec,dim=1)\n",
    "        \n",
    "        context = torch.sum(_resultant_vec * FM,dim=1)\n",
    "        return context,_resultant_vec\n",
    "        "
   ]
  },
  {
   "cell_type": "code",
   "execution_count": 5,
   "id": "2e1d7dfb-8b50-4a61-9afd-45ccd798bcb7",
   "metadata": {
    "tags": []
   },
   "outputs": [
    {
     "name": "stdout",
     "output_type": "stream",
     "text": [
      "torch.Size([1, 49, 2048])\n"
     ]
    }
   ],
   "source": [
    "av = torch.randn(1,49,2048)\n",
    "ff = torch.randn(1,49,1)\n",
    "print((av * ff).shape)"
   ]
  },
  {
   "cell_type": "code",
   "execution_count": 6,
   "id": "a0f819bb-e600-4961-ab0c-66dc62a49cc5",
   "metadata": {},
   "outputs": [
    {
     "ename": "NameError",
     "evalue": "name 'mdl' is not defined",
     "output_type": "error",
     "traceback": [
      "\u001b[0;31m---------------------------------------------------------------------------\u001b[0m",
      "\u001b[0;31mNameError\u001b[0m                                 Traceback (most recent call last)",
      "Cell \u001b[0;32mIn[6], line 3\u001b[0m\n\u001b[1;32m      1\u001b[0m ff \u001b[38;5;241m=\u001b[39m Attention(\u001b[38;5;241m2048\u001b[39m,\u001b[38;5;241m512\u001b[39m,\u001b[38;5;241m1\u001b[39m)\n\u001b[1;32m      2\u001b[0m hdn \u001b[38;5;241m=\u001b[39m torch\u001b[38;5;241m.\u001b[39mrandn(\u001b[38;5;241m1\u001b[39m,\u001b[38;5;241m1\u001b[39m,\u001b[38;5;241m512\u001b[39m)\n\u001b[0;32m----> 3\u001b[0m ff\u001b[38;5;241m.\u001b[39mforward(\u001b[43mmdl\u001b[49m\u001b[38;5;241m.\u001b[39mforward(demo),hdn)[\u001b[38;5;241m0\u001b[39m]\u001b[38;5;241m.\u001b[39mshape\n",
      "\u001b[0;31mNameError\u001b[0m: name 'mdl' is not defined"
     ]
    }
   ],
   "source": [
    "ff = Attention(2048,512,1)\n",
    "hdn = torch.randn(1,1,512)\n",
    "ff.forward(mdl.forward(demo),hdn)[0].shape"
   ]
  },
  {
   "cell_type": "code",
   "execution_count": 12,
   "id": "71ff0f28-8168-414f-bbab-660c19c35c5b",
   "metadata": {
    "tags": []
   },
   "outputs": [],
   "source": [
    "class Decoder(nn.Module):\n",
    "    def __init__(self,vocab,hidden,embed_dim,features):\n",
    "        \n",
    "        self.embedding = nn.Embedding(vocab,embed_dim)\n",
    "        self.hidden = hidden\n",
    "        self.features = features\n",
    "        self.vocab = vocab\n",
    "        self.LSSTFC = nn.Linear(hidden,vocab)\n",
    "        \n",
    "        self.init_fc_h = nn.Linear(features,hidden)\n",
    "        self.init_fc_c = nn.Linear(features,hidden)\n",
    "        self.BrunAtten = Attention(2048,256,1)\n",
    "        self.LSTM = nn.LSTMCell(features + embed_dim,hidden)\n",
    "        \n",
    "        \n",
    "    \n",
    "    def init_hidden(self,feature):\n",
    "        \n",
    "        to_fed = torch.mean(feature,dim=1)\n",
    "        h0 = self.init_fc_h(to_fed)\n",
    "        c0 = self.init_fc_c(to_fed)\n",
    "        return h0,c0\n",
    "        \n",
    "        \n",
    "        \n",
    "    \n",
    "    def forward(self,caption,features):\n",
    "        \n",
    "        caption_vector = self.embedding(caption)\n",
    "        #B,SEQ,EMBED\n",
    "        \n",
    "        SEQ_LEN = caption.size(1)\n",
    "        \n",
    "        vocabs  = torch.zeros(features.size(0),SEQ_LEN,self.vocab)\n",
    "        attn_weights = torch.zeros(features.size(0),SEQ_LEN,features.size(1))\n",
    "        h,c = init_hidden(features)\n",
    "        \n",
    "        \n",
    "        for t in range(SEQ_LEN):\n",
    "            sample_prob = 0.0 if t == 0 else 0.5\n",
    "            use_sampling = np.random.random() < sample_prob\n",
    "            if use_sampling == False:\n",
    "                word_embed = caption_vector[:,t,:]\n",
    "            contxt,attn_weight = self.BrunAtten.forward(features,h)\n",
    "            _vec = torch.cat([contxt,word_embed])\n",
    "            h,c = self.LSTM(_vec,(h,c))\n",
    "            output = self.LSSTFC(h)\n",
    "            if use_sampling == True:\n",
    "                idex = F.log_softmax(output,dim=1)\n",
    "                # normalized probs\n",
    "                idex = idex.topk(1)[1]\n",
    "                word_embed = self.embedding(idex).squeeze(1)\n",
    "            \n",
    "            vocabs[:,t,:] = output\n",
    "            attn_weights[:,t,:] = attn_weight\n",
    "            #h = 32,SEQ,hidden\n",
    "        return vocabs,attn_weights\n",
    "        "
   ]
  },
  {
   "cell_type": "code",
   "execution_count": 11,
   "id": "809a18eb-beb5-4ac7-b160-8629bfb91b7b",
   "metadata": {
    "tags": []
   },
   "outputs": [
    {
     "data": {
      "text/plain": [
       "torch.Size([1, 49, 2048])"
      ]
     },
     "execution_count": 11,
     "metadata": {},
     "output_type": "execute_result"
    }
   ],
   "source": [
    "image  = torch.randn(1,3,224,224)\n",
    "mdl = CNNENcoder()\n",
    "mdl.forward(image).shape"
   ]
  },
  {
   "cell_type": "code",
   "execution_count": null,
   "id": "c2e81fd7-34fd-473b-8a91-c8f2e802e30a",
   "metadata": {},
   "outputs": [],
   "source": []
  },
  {
   "cell_type": "code",
   "execution_count": 9,
   "id": "2b6ca641-b2df-4065-8221-245fa1a4a2da",
   "metadata": {},
   "outputs": [],
   "source": [
    "#HYPER PARAM\n",
    "BATCH = 64\n",
    "EMBED_SIZE = 256\n",
    "HIDDEN_SIZE = 512\n",
    "FEATURES = 2048\n",
    "EPoCHS = 20"
   ]
  },
  {
   "cell_type": "code",
   "execution_count": null,
   "id": "dbf41cde-7c82-4f88-a7f5-86b577051bce",
   "metadata": {},
   "outputs": [],
   "source": [
    "def train(epochs,\n",
    "         embed_size,\n",
    "         hidden_size,\n",
    "         features,epochs,vocab,\n",
    "         train_loader,\n",
    "         device,\n",
    "         loss_criterion):\n",
    "    \n",
    "    encoder = CNNENcoder()\n",
    "    decoder = Decoder(vocab,hidden,embed_size,features)\n",
    "    \n",
    "    encoder.eval()\n",
    "    decoder.train()\n",
    "    \n",
    "    optim = torch.nn.optim.Adam(decoder.parameters(),lr=0.001)\n",
    "    \n",
    "    for ep in range(epochs):\n",
    "        \n",
    "        for i,(image,caption) in enumerate(train_loader):\n",
    "            image = image.to(device)\n",
    "            \n",
    "            encoder.zero_grad()\n",
    "            decoder.zer_grad()\n",
    "            \n",
    "            caption_train = caption[:,:-1].to(device)\n",
    "            caption_target = caption[:,1:].to(device)\n",
    "            \n",
    "            # B,49,2048\n",
    "            _vec_features = encoder.forward(image)\n",
    "            results,attn_weghts = decoder.forward(caption_train,_vec_features)\n",
    "            \n",
    "            _loss = loss_criterion(results.view(-1,vocab_size),caption_target.reshape(-1))\n",
    "            \n",
    "            _loss.backward()\n",
    "            \n",
    "            optim.zero_grad()\n",
    "            \n",
    "            optim.step()\n",
    "            \n",
    "            print(f'Epochs {ep} Step {i} Loss {_loss.item()}')\n",
    "        \n",
    "        torch.save(decoder.state_dict(),os.path.join('/model',f'decoder{ep}.pkl'))\n",
    "        torch.save(encoder.state_dict(),os.path.join('/model',f'encoder{ep}.pkl'))\n",
    "            \n",
    "            \n",
    "            \n",
    "            \n",
    "            \n",
    "            \n",
    "    "
   ]
  }
 ],
 "metadata": {
  "kernelspec": {
   "display_name": "Python 3 (ipykernel)",
   "language": "python",
   "name": "python3"
  },
  "language_info": {
   "codemirror_mode": {
    "name": "ipython",
    "version": 3
   },
   "file_extension": ".py",
   "mimetype": "text/x-python",
   "name": "python",
   "nbconvert_exporter": "python",
   "pygments_lexer": "ipython3",
   "version": "3.10.9"
  }
 },
 "nbformat": 4,
 "nbformat_minor": 5
}
